{
 "cells": [
  {
   "cell_type": "markdown",
   "id": "6cf8108b",
   "metadata": {},
   "source": [
    "Name:Divya Kanoba Margi\n",
    "Assignment 2\n",
    "Registeration ID:SIRSS2106\n"
   ]
  },
  {
   "cell_type": "markdown",
   "id": "3ec56206",
   "metadata": {},
   "source": [
    "Q1. Write a lambda expression to extract first word of a string."
   ]
  },
  {
   "cell_type": "code",
   "execution_count": 1,
   "id": "d115bb54",
   "metadata": {},
   "outputs": [
    {
     "name": "stdout",
     "output_type": "stream",
     "text": [
      "Hello\n",
      "H\n"
     ]
    }
   ],
   "source": [
    "string = input()\n",
    "\n",
    "func = lambda x:x[0]\n",
    "print(func(string))"
   ]
  },
  {
   "cell_type": "markdown",
   "id": "92e6a2f1",
   "metadata": {},
   "source": [
    "Q2. Write a function to extract first word of s string (with many words separated by space).\n"
   ]
  },
  {
   "cell_type": "code",
   "execution_count": 2,
   "id": "1b5ed9ae",
   "metadata": {},
   "outputs": [
    {
     "name": "stdout",
     "output_type": "stream",
     "text": [
      "Hello my name is suzi\n",
      "Hello\n"
     ]
    }
   ],
   "source": [
    "string = input().split()\n",
    "\n",
    "func = lambda x:x[0]\n",
    "print(func(string))"
   ]
  },
  {
   "cell_type": "markdown",
   "id": "ce0fdfd1",
   "metadata": {},
   "source": [
    "Q3. Extract the first word from every string from a list of strings by using map function."
   ]
  },
  {
   "cell_type": "code",
   "execution_count": 3,
   "id": "71fcafc3",
   "metadata": {},
   "outputs": [
    {
     "name": "stdout",
     "output_type": "stream",
     "text": [
      "hello my students how are you all.\n"
     ]
    },
    {
     "data": {
      "text/plain": [
       "['h', 'm', 's', 'h', 'a', 'y', 'a']"
      ]
     },
     "execution_count": 3,
     "metadata": {},
     "output_type": "execute_result"
    }
   ],
   "source": [
    "l = input().split()\n",
    "func = lambda x:x[0]\n",
    "list(next(zip(*map(func, l))))"
   ]
  },
  {
   "cell_type": "markdown",
   "id": "9876580b",
   "metadata": {},
   "source": [
    "Q4. Write a function to return a list of prime factors of a given number."
   ]
  },
  {
   "cell_type": "code",
   "execution_count": 4,
   "id": "05dcfb23",
   "metadata": {},
   "outputs": [
    {
     "name": "stdout",
     "output_type": "stream",
     "text": [
      "54\n",
      "[2, 3]\n"
     ]
    }
   ],
   "source": [
    "n = int(input())\n",
    "out = []\n",
    "for i in range(2,n + 1):\n",
    "    if n % i == 0:\n",
    "        count = 1\n",
    "        for j in range(2,(i//2 + 1)):\n",
    "            if(i % j == 0):\n",
    "                count = 0\n",
    "                break\n",
    "        if(count == 1):\n",
    "            out.append(i)\n",
    "print(out)"
   ]
  },
  {
   "cell_type": "markdown",
   "id": "ca4323a9",
   "metadata": {},
   "source": [
    "Q5. Write a function that finds 2nd largest among 4 numbers (Repetitions are allowed, without sorting)."
   ]
  },
  {
   "cell_type": "code",
   "execution_count": 5,
   "id": "834e7450",
   "metadata": {},
   "outputs": [
    {
     "name": "stdout",
     "output_type": "stream",
     "text": [
      "45 78 56 55\n",
      "56\n"
     ]
    }
   ],
   "source": [
    "a = list(map(int,input().strip().split()))[:4]\n",
    "new_list = set(a)\n",
    "new_list.remove(max(new_list))\n",
    "print(max(new_list))"
   ]
  }
 ],
 "metadata": {
  "kernelspec": {
   "display_name": "Python 3",
   "language": "python",
   "name": "python3"
  },
  "language_info": {
   "codemirror_mode": {
    "name": "ipython",
    "version": 3
   },
   "file_extension": ".py",
   "mimetype": "text/x-python",
   "name": "python",
   "nbconvert_exporter": "python",
   "pygments_lexer": "ipython3",
   "version": "3.8.8"
  }
 },
 "nbformat": 4,
 "nbformat_minor": 5
}
